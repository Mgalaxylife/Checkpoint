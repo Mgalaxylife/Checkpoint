{
 "cells": [
  {
   "attachments": {},
   "cell_type": "markdown",
   "metadata": {},
   "source": [
    "**-----------------------------------------------------------------------------------------------------------------------**\n",
    "\n",
    "## **Arquivo principal**\n",
    "\n",
    "#### **Nesse arquivo tem toda a solução pensada em formato .ipynb**\n",
    "\n",
    "**-----------------------------------------------------------------------------------------------------------------------**"
   ]
  },
  {
   "attachments": {},
   "cell_type": "markdown",
   "metadata": {},
   "source": [
    "## **Explicação breve sobre o principal componente**\n",
    "\n",
    "**Linear Regression:** *Linear Regression é uma técnica estatística usada para modelar a relação entre uma variável dependente (y) e uma ou mais variáveis independentes (x). O objetivo é encontrar a equação de uma linha reta que melhor descreve a relação linear entre as variáveis, permitindo que se faça previsões sobre a variável dependente com base nos valores conhecidos da variável independente. Essa equação é conhecida como a equação de regressão e pode ser usada para prever novos valores da variável dependente com base nos valores conhecidos da variável independente. O método de regressão linear é amplamente utilizado em diversas áreas, como finanças, economia, ciência de dados e engenharia, e é uma das técnicas mais básicas e simples de aprendizado supervisionado em machine learning.*"
   ]
  },
  {
   "cell_type": "code",
   "execution_count": 1,
   "metadata": {},
   "outputs": [
    {
     "name": "stdout",
     "output_type": "stream",
     "text": [
      "Todos os dados faltantes foram preenchidos com sucesso.\n",
      "O modelo foi treinado com sucesso!\n"
     ]
    }
   ],
   "source": [
    "'''\n",
    "NECESSIDADE 01:\n",
    "Esse código tem como objetivo preencher dados faltantes em uma base de dados usando\n",
    "um modelo de regressão linear treinado com as linhas que não possuem dados faltantes. \n",
    "Ele carrega os dados de um arquivo CSV, encontra a coluna com dados faltantes e as \n",
    "linhas correspondentes, treina um modelo de regressão linear com as linhas sem dados faltantes,\n",
    "preenche os valores faltantes usando o modelo treinado, verifica se ainda há dados faltantes\n",
    "e, se não houver, salva o modelo treinado.\n",
    "'''\n",
    "\n",
    "# Importar bibliotecas necessárias\n",
    "import  pandas                  as pd \n",
    "import  joblib\n",
    "from    sklearn.linear_model    import LinearRegression\n",
    "\n",
    "\n",
    "# Carregar os dados\n",
    "data = pd.read_csv('dados_modificados 1.csv')\n",
    "\n",
    "# Encontrar a coluna com dados faltantes\n",
    "coluna_com_faltantes = data.columns[data.isnull().any()].tolist()[0]\n",
    "\n",
    "# Encontrar as linhas com dados faltantes\n",
    "linhas_com_faltantes = data[data[coluna_com_faltantes].isnull()]\n",
    "\n",
    "# Pegar as linhas sem dados faltantes e treinar um modelo para preencher os valores faltantes\n",
    "linhas_sem_faltantes = data.dropna(subset=[coluna_com_faltantes])\n",
    "X_train = linhas_sem_faltantes.drop(coluna_com_faltantes, axis=1)\n",
    "y_train = linhas_sem_faltantes[coluna_com_faltantes]\n",
    "model = LinearRegression()\n",
    "model.fit(X_train, y_train)\n",
    "\n",
    "# Preencher os valores faltantes usando o modelo treinado\n",
    "X_test = linhas_com_faltantes.drop(coluna_com_faltantes, axis=1)\n",
    "y_pred = model.predict(X_test)\n",
    "\n",
    "# Substituir os valores faltantes pelos valores previstos\n",
    "data.loc[data[coluna_com_faltantes].isnull(), coluna_com_faltantes] = y_pred\n",
    "\n",
    "# Verificar se ainda há dados faltantes\n",
    "if data.isnull().any().any():\n",
    "    print(\"Ainda há dados faltantes na base de dados.\")\n",
    "else:\n",
    "    print(\"Todos os dados faltantes foram preenchidos com sucesso.\")\n",
    "\n",
    "# Salvar o modelo treinado\n",
    "joblib.dump(model, 'linear_regression_model.joblib')\n",
    "\n",
    "# Indicar que o modelo foi treinado com sucesso\n",
    "print(\"O modelo foi treinado com sucesso!\")\n",
    "\n"
   ]
  },
  {
   "attachments": {},
   "cell_type": "markdown",
   "metadata": {},
   "source": [
    "## **Explicação breve sobre os principais componentes**\n",
    "\n",
    "1. **Random Forest:** *Random Forest é um algoritmo de aprendizado de máquina supervisionado que combina várias árvores de decisão independentes e aleatórias para criar um modelo mais robusto e geral. Ele é frequentemente utilizado para tarefas de classificação, regressão e detecção de anomalias em grandes conjuntos de dados com muitas variáveis. A técnica envolve a construção de árvores de decisão aleatórias durante o treinamento, usando a técnica de bagging e a escolha aleatória de subconjuntos de recursos para serem usados em cada divisão de nó. A diversidade resultante aumenta a robustez do modelo, permitindo que ele capture com mais eficiência os padrões e relacionamentos complexos nos dados. Random Forest é popular porque é relativamente fácil de usar, pode lidar com dados ausentes e é resistentes a valores atípicos e ruídos nos dados.*\n",
    "\n",
    "2. **KNNImputer:** *KNNImputer é uma técnica de imputação de dados que utiliza o algoritmo K-Nearest Neighbors (KNN) para preencher valores faltantes em um conjunto de dados. O método KNNImputer substitui os valores faltantes pela média ou mediana dos k vizinhos mais próximos do ponto de dados com valor faltante. Essa técnica é útil quando os dados faltantes não estão em um padrão específico e os valores ausentes precisam ser estimados com base nos valores das outras variáveis. O KNNImputer é implementado na biblioteca scikit-learn do Python e é uma das várias técnicas de imputação de dados disponíveis para tratar valores ausentes em conjuntos de dados.*\n",
    "\n",
    "3. **Accuracy:** *Accuracy é uma métrica comum utilizada para avaliar a precisão de um modelo de aprendizado de máquina. É definida como a proporção de predições corretas feitas pelo modelo em relação ao total de predições. É calculada dividindo o número de predições corretas pelo número total de exemplos de teste. A accuracy é uma medida útil quando as classes do conjunto de dados estão equilibradas, ou seja, possuem aproximadamente a mesma quantidade de exemplos em cada classe. No entanto, pode ser enganosa quando há um desequilíbrio significativo entre as classes, pois o modelo pode ter uma alta accuracy simplesmente prevendo a classe majoritária. Nesses casos, outras métricas como precision, recall e F1-score podem ser mais adequadas. A accuracy é amplamente utilizada para avaliar a performance de modelos de classificação, mas deve ser usada com cuidado e em conjunto com outras métricas para uma avaliação mais completa e precisa.*"
   ]
  },
  {
   "cell_type": "code",
   "execution_count": 2,
   "metadata": {},
   "outputs": [
    {
     "name": "stdout",
     "output_type": "stream",
     "text": [
      "O modelo foi treinado com sucesso!\n",
      "Precisão do modelo: 92.95%\n"
     ]
    }
   ],
   "source": [
    "'''\n",
    "NECESSIDADE 02:\n",
    "Este código tem como objetivo treinar um modelo de Floresta Aleatória usando o conjunto \n",
    "de dados de cogumelos para prever se os cogumelos são venenosos ou não. Ele começa \n",
    "carregando os dados de um arquivo CSV, dividindo-os em conjuntos de treinamento e teste\n",
    "e verificando se há valores faltantes. Se houver valores faltantes, eles são preenchidos \n",
    "usando um imputador KNN. Em seguida, um modelo de Floresta Aleatória é treinado \n",
    "usando o conjunto de treinamento e ajustando seus hiperparâmetros com o Grid Search. \n",
    "O modelo treinado é salvo em um arquivo. Finalmente, o modelo é carregado a partir do \n",
    "arquivo para fazer previsões com o conjunto de teste e avaliar sua precisão.\n",
    "'''\n",
    "\n",
    "# Importar bibliotecas necessárias\n",
    "import  pandas                      as pd\n",
    "import  joblib\n",
    "from    sklearn.model_selection     import train_test_split\n",
    "from    sklearn.impute              import KNNImputer\n",
    "from    sklearn.ensemble            import RandomForestClassifier\n",
    "from    sklearn.model_selection     import GridSearchCV\n",
    "from    sklearn.metrics             import accuracy_score\n",
    "\n",
    "\n",
    "# Carregar os dados\n",
    "data = pd.read_csv('dados_modificados 1.csv')\n",
    "\n",
    "# Dividir os dados em conjunto de treinamento e teste\n",
    "X_train, X_test, y_train, y_test = train_test_split(data.drop('Venenoso', axis=1), data['Venenoso'], test_size=0.2, random_state=42)\n",
    "\n",
    "# Verificar valores faltantes\n",
    "if X_train.isnull().sum().sum() == 0 and X_test.isnull().sum().sum() == 0:\n",
    "    print(\"Não há valores faltantes nos dados.\")\n",
    "else:\n",
    "    # Preencher os valores faltantes com um imputador KNN\n",
    "    imputer = KNNImputer()\n",
    "    X_train_imputed = imputer.fit_transform(X_train)\n",
    "    X_test_imputed = imputer.transform(X_test)\n",
    "\n",
    "# Treinar um modelo de Random Forest com Grid Search para ajustar os hiperparâmetros\n",
    "parameters = {\n",
    "    'n_estimators': [50, 100, 200],\n",
    "    'max_depth': [5, 10, 15],\n",
    "    'min_samples_split': [2, 5, 10]\n",
    "}\n",
    "model = RandomForestClassifier(random_state=42)\n",
    "grid_search = GridSearchCV(model, parameters, cv=5)\n",
    "grid_search.fit(X_train_imputed, y_train)\n",
    "\n",
    "# Salvar o modelo treinado\n",
    "joblib.dump(grid_search, 'Random_Forest.joblib')\n",
    "\n",
    "# Indicar que o modelo foi treinado com sucesso\n",
    "print(\"O modelo foi treinado com sucesso!\")\n",
    "\n",
    "# Usar o modelo para fazer previsões\n",
    "model = joblib.load('Random_Forest.joblib')\n",
    "y_pred = model.predict(X_test_imputed)\n",
    "\n",
    "# Avaliar a precisão do modelo com o conjunto de teste\n",
    "accuracy = accuracy_score(y_test, y_pred)\n",
    "print(\"Precisão do modelo: {:.2f}%\".format(accuracy * 100))\n"
   ]
  }
 ],
 "metadata": {
  "kernelspec": {
   "display_name": "base",
   "language": "python",
   "name": "python3"
  },
  "language_info": {
   "codemirror_mode": {
    "name": "ipython",
    "version": 3
   },
   "file_extension": ".py",
   "mimetype": "text/x-python",
   "name": "python",
   "nbconvert_exporter": "python",
   "pygments_lexer": "ipython3",
   "version": "3.9.13"
  },
  "orig_nbformat": 4
 },
 "nbformat": 4,
 "nbformat_minor": 2
}
